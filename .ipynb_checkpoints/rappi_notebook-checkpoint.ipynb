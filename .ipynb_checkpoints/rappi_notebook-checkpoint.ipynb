{
 "cells": [
  {
   "cell_type": "code",
   "execution_count": 1,
   "metadata": {},
   "outputs": [
    {
     "ename": "ModuleNotFoundError",
     "evalue": "No module named 'matplotlib'",
     "output_type": "error",
     "traceback": [
      "\u001b[0;31m---------------------------------------------------------------------------\u001b[0m",
      "\u001b[0;31mModuleNotFoundError\u001b[0m                       Traceback (most recent call last)",
      "\u001b[0;32m<ipython-input-1-a7a2d608bd27>\u001b[0m in \u001b[0;36m<module>\u001b[0;34m()\u001b[0m\n\u001b[1;32m      1\u001b[0m \u001b[0;32mimport\u001b[0m \u001b[0mnumpy\u001b[0m \u001b[0;32mas\u001b[0m \u001b[0mnp\u001b[0m\u001b[0;34m\u001b[0m\u001b[0m\n\u001b[0;32m----> 2\u001b[0;31m \u001b[0;32mimport\u001b[0m \u001b[0mmatplotlib\u001b[0m\u001b[0;34m.\u001b[0m\u001b[0mpyplot\u001b[0m \u001b[0;32mas\u001b[0m \u001b[0mplt\u001b[0m\u001b[0;34m\u001b[0m\u001b[0m\n\u001b[0m\u001b[1;32m      3\u001b[0m \u001b[0;32mimport\u001b[0m \u001b[0mpandas\u001b[0m \u001b[0;32mas\u001b[0m \u001b[0mpd\u001b[0m\u001b[0;34m\u001b[0m\u001b[0m\n\u001b[1;32m      4\u001b[0m \u001b[0;32mimport\u001b[0m \u001b[0mseaborn\u001b[0m \u001b[0;32mas\u001b[0m \u001b[0msns\u001b[0m\u001b[0;34m\u001b[0m\u001b[0m\n\u001b[1;32m      5\u001b[0m \u001b[0;34m\u001b[0m\u001b[0m\n",
      "\u001b[0;31mModuleNotFoundError\u001b[0m: No module named 'matplotlib'"
     ]
    }
   ],
   "source": [
    "import numpy as np\n",
    "import matplotlib.pyplot as plt \n",
    "import pandas as pd\n",
    "import seaborn as sns\n",
    "\n",
    "%matplotlib inline"
   ]
  },
  {
   "cell_type": "code",
   "execution_count": null,
   "metadata": {
    "collapsed": true
   },
   "outputs": [],
   "source": [
    "names = ['Elevation', 'Aspect', 'Slope', 'Horizontal_Distance_To_Hydrology',\n",
    "        'Vertical_Distance_To_Hydrology', 'Horizontal_Distance_To_Roadways',\n",
    "         'Hillshade_9am', 'Hillshade_Noon', 'Hillshade_3pm', 'Horizontal_Distance_To_Fire_Points']\n",
    "\n",
    "wilderness_areas = [1,2,3,4]\n",
    "soil_types = [2702,2703,2704,2705,2706,2717,3501,3502,4201,4703,4704,4744,4758,5101,5151,6101,6102,6731,7101,7102,7103,7201,7202,7700,7701,7702,7709,7710,7745,7746,7755,7756,7757,7790,8703,8707,8708,8771,8772,8776]\n",
    "\n",
    "names.extend(wilderness_areas)\n",
    "names.extend(soil_types)\n",
    "\n",
    "names.append('Cover_Type')"
   ]
  },
  {
   "cell_type": "code",
   "execution_count": null,
   "metadata": {
    "collapsed": true
   },
   "outputs": [],
   "source": [
    "#Read the Data set\n",
    "data_set = pd.read_csv('covtype.data', names=names)\n",
    "\n",
    "#Get dummies back to categorical\n",
    "wilderness_area_cat = data_set[wilderness_areas].stack(-1)\n",
    "wilderness_area_cat = wilderness_area_cat.where(wilderness_area_cat == 1).dropna()\n",
    "data_set['Wilderness_Area'] = wilderness_area_cat.reset_index()['level_1']\n",
    "data_set.drop(wilderness_areas, inplace=True, axis=1)\n",
    "\n",
    "soil_types_cat = data_set[soil_types].stack(-1)\n",
    "soil_types_cat = soil_types_cat.where(soil_types_cat == 1).dropna()\n",
    "data_set['Soil_Type'] = soil_types_cat.reset_index()['level_1']\n",
    "data_set.drop(soil_types, inplace=True, axis=1)"
   ]
  },
  {
   "cell_type": "code",
   "execution_count": null,
   "metadata": {},
   "outputs": [],
   "source": [
    "#Elevation exploration\n",
    "sns.violinplot(x='Cover_Type', y='Elevation', data = data_set,  inner=\"quart\")"
   ]
  },
  {
   "cell_type": "code",
   "execution_count": null,
   "metadata": {},
   "outputs": [],
   "source": [
    "#It looks like there are 3 groups here. [{1,2,5}, {3,4,6}, {7}]\n",
    "#I will categorize the elevation in those 3 so I will get the intervals.\n",
    "\n",
    "groups = {'g1': [1,2,5], 'g2': [3,4,6], 'g3': [7]}\n",
    "groups_stats = {}\n",
    "for g_name, g_vals in groups.items():\n",
    "    print(g_name)\n",
    "    groups_stats[g_name] = data_set[data_set['Cover_Type'].isin(g_vals)]['Elevation'].describe()\n",
    "    display(groups_stats[g_name])"
   ]
  },
  {
   "cell_type": "code",
   "execution_count": null,
   "metadata": {
    "collapsed": true
   },
   "outputs": [],
   "source": [
    "#The minimum elevation value is 1859 m and the maximum is 3858, but it seems that in group 3 (where the max value is)\n",
    "#Are not many values above 75 percentile as we can see in the violin plot (also with the std, mean, and 75 percentile)\n",
    "#So to set the maximum value I will add 2 stds to the mean of group 3 and that will be my max.\n",
    "\n",
    "min_elev_value = groups_stats['g2']['min']\n",
    "max_elev_value = groups_stats['g3']['mean'] + groups_stats['g3']['std']*2\n",
    "#max_elev_value = 3858\n",
    "interval_size = (max_elev_value - min_elev_value)/3\n",
    "\n",
    "elev_intervals = {i:(int(min_elev_value+(interval_size)*i), int(min_elev_value+(interval_size)*(i+1))) for i in range(3)}"
   ]
  },
  {
   "cell_type": "code",
   "execution_count": null,
   "metadata": {
    "collapsed": true
   },
   "outputs": [],
   "source": [
    "# test = data_set\n",
    "# test['elev_cat_test'] = pd.qcut(data_set['Elevation'], 4)\n",
    "# test.groupby(['elev_cat_test', 'Cover_Type']).mean().dropna()"
   ]
  },
  {
   "cell_type": "code",
   "execution_count": null,
   "metadata": {
    "collapsed": true
   },
   "outputs": [],
   "source": [
    "#This mapping leaves 1100 samples with a category 3, means outlier.\n",
    "\n",
    "def map_elevation(val):\n",
    "    for k, interval in elev_intervals.items(): \n",
    "        if (val >= interval[0] and val < interval[1]):\n",
    "            return k\n",
    "    return 3\n",
    "        \n",
    "data_set['Elevation_Cat'] = data_set['Elevation'].apply(map_elevation)"
   ]
  },
  {
   "cell_type": "code",
   "execution_count": null,
   "metadata": {},
   "outputs": [],
   "source": [
    "#We can see that each Wilderness_Area has some typical clases but more important is that the elevation category is helping\n",
    "#To differentiate those typical clases.\n",
    "#But there is still some hard cases to classify, for example Cover_Type 5 in the Area 3, Elevation 1, has around 60% of its\n",
    "#Samples but Cover 2 will get clasified a lot, which means we need another variable to explain cover 5's presence.\n",
    "\n",
    "pd.crosstab([data_set['Wilderness_Area'], data_set['Elevation_Cat']],\n",
    "            data_set['Cover_Type'],margins=True).style.background_gradient(cmap='summer_r')"
   ]
  },
  {
   "cell_type": "code",
   "execution_count": null,
   "metadata": {},
   "outputs": [],
   "source": [
    "sns.heatmap(data_set.corr(),annot=True,cmap='RdYlGn',linewidths=0.2) \n",
    "fig=plt.gcf()\n",
    "fig.set_size_inches(10,8)\n",
    "plt.show()"
   ]
  },
  {
   "cell_type": "code",
   "execution_count": null,
   "metadata": {
    "collapsed": true,
    "scrolled": true
   },
   "outputs": [],
   "source": [
    "data_set['Total_Distance_To_Hydrology'] = np.sqrt(data_set['Horizontal_Distance_To_Hydrology'] ** 2 + \n",
    "                                                  data_set['Vertical_Distance_To_Hydrology'] ** 2)\n",
    "data_set['Total_Distance_To_Hydrology_Cat'] = pd.qcut(data_set['Total_Distance_To_Hydrology'], 4)"
   ]
  },
  {
   "cell_type": "code",
   "execution_count": null,
   "metadata": {},
   "outputs": [],
   "source": [
    "#The shade by itself it is not telling us much\n",
    "data_set['Total_Hillshade_Day'] = data_set['Hillshade_3pm'] + data_set['Hillshade_9am'] + data_set['Hillshade_Noon']\n",
    "sns.violinplot(x='Cover_Type', y='Total_Hillshade_Day', data = data_set,  inner=\"quart\")"
   ]
  },
  {
   "cell_type": "code",
   "execution_count": null,
   "metadata": {},
   "outputs": [],
   "source": [
    "#These forms are very similar but there are some points typical of each Cover Type which could mean a species is more\n",
    "#Likely to survive in an specific configuration.\n",
    "sns.lmplot(x=\"Slope\", y=\"Total_Hillshade_Day\", hue=\"Cover_Type\", data=data_set, col='Cover_Type')"
   ]
  },
  {
   "cell_type": "code",
   "execution_count": null,
   "metadata": {},
   "outputs": [],
   "source": [
    "sns.lmplot(y=\"Total_Distance_To_Hydrology\", x=\"Horizontal_Distance_To_Roadways\", hue=\"Cover_Type\", data=data_set, col='Cover_Type')\n"
   ]
  }
 ],
 "metadata": {
  "kernelspec": {
   "display_name": "Python 3",
   "language": "python",
   "name": "python3"
  },
  "language_info": {
   "codemirror_mode": {
    "name": "ipython",
    "version": 3
   },
   "file_extension": ".py",
   "mimetype": "text/x-python",
   "name": "python",
   "nbconvert_exporter": "python",
   "pygments_lexer": "ipython3",
   "version": "3.6.0"
  }
 },
 "nbformat": 4,
 "nbformat_minor": 2
}
